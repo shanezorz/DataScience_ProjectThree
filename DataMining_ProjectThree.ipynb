{
 "cells": [
  {
   "cell_type": "markdown",
   "id": "d042d930-0052-4d9b-b699-7768840afbaf",
   "metadata": {},
   "source": [
    "# **Decoding Real Estate Trends: Exploring Regression Models for House Price Prediction**"
   ]
  },
  {
   "cell_type": "markdown",
   "id": "caac14e8-8ad7-4889-a090-7fa0eb898026",
   "metadata": {},
   "source": [
    "## **Introduction**\n",
    "\n",
    "House prices are influenced by a wide array of factors, from physical attributes like square footage to seemingly obscure details like proximity to railroads. Understanding the nuances behind these price variations is crucial for developing effective predictive models. This project explores the Kaggle competition dataset, \"House Prices – Advanced Regression Techniques,\" to tackle the challenge of predicting sales prices using regression methods.\n",
    "\n",
    "The aim of this project is to provide hands-on experience in regression analysis, with a particular focus on linear regression. By analyzing the Ames Housing dataset, which contains 79 explanatory variables describing residential homes, the intricate relationships between these features and house prices are explored. Through creative feature engineering and experimentation with different regression techniques, models are developed to deliver accurate predictions while minimizing errors.\n",
    "\n",
    "Beyond technical skill development, this project offers an opportunity to gain a deeper understanding of the pre-processing steps required for regression problems. Various transformations are applied, features are selected or engineered, and models are refined to improve prediction performance. This process highlights the real-world applications of regression in domains such as economics and real estate."
   ]
  },
  {
   "cell_type": "markdown",
   "id": "cc12c133-a62f-48f0-bcd5-7ba37d1b7494",
   "metadata": {},
   "source": [
    "## **Data**\n",
    "\n",
    "The dataset used in this project is the \"House Prices - Advanced Regression Techniques\" dataset, sourced from Kaggle. It contains extensive information about residential homes in Ames, Iowa, and includes 79 explanatory variables that describe various aspects influencing house prices. Below are key columns from the dataset:\n",
    "\n",
    "- **Id:** Unique identifier for each house\n",
    "- **MSSubClass:** The type of dwelling involved in the sale\n",
    "- **MSZoning:** The general zoning classification\n",
    "- **LotArea:** Lot size in square feet\n",
    "- **OverallQual:** Overall material and finish quality\n",
    "- **OverallCond:** Overall condition rating\n",
    "- **YearBuilt:** Original construction date\n",
    "- **YearRemodAdd:** Remodel date\n",
    "- **Exterior1st:** Exterior covering on the house\n",
    "- **Exterior2nd:** Exterior covering (if more than one material)\n",
    "- **SalePrice:** The property's sale price (target variable)\n",
    "\n",
    "The dataset also includes other variables related to building features, neighborhood information, and house condition, offering ample opportunities for feature engineering and regression modeling.\n",
    "\n",
    "This data is publicly available at: [House Prices - Advanced Regression Techniques](https://www.kaggle.com/c/house-prices-advanced-regression-techniques/overview)."
   ]
  },
  {
   "cell_type": "code",
   "execution_count": 1,
   "id": "0f76a2d3-82a0-44c5-880b-db11b0b2ffdc",
   "metadata": {},
   "outputs": [
    {
     "name": "stdout",
     "output_type": "stream",
     "text": [
      "PoolQC          1453\n",
      "MiscFeature     1406\n",
      "Alley           1369\n",
      "Fence           1179\n",
      "MasVnrType       872\n",
      "FireplaceQu      690\n",
      "LotFrontage      259\n",
      "GarageYrBlt       81\n",
      "GarageCond        81\n",
      "GarageType        81\n",
      "GarageFinish      81\n",
      "GarageQual        81\n",
      "BsmtFinType2      38\n",
      "BsmtExposure      38\n",
      "BsmtQual          37\n",
      "BsmtCond          37\n",
      "BsmtFinType1      37\n",
      "MasVnrArea         8\n",
      "Electrical         1\n",
      "Id                 0\n",
      "dtype: int64\n"
     ]
    }
   ],
   "source": [
    "import pandas as pd\n",
    "from sklearn.model_selection import train_test_split, cross_val_score\n",
    "from sklearn.linear_model import LinearRegression\n",
    "from sklearn.metrics import mean_absolute_error\n",
    "from sklearn.preprocessing import PolynomialFeatures, StandardScaler\n",
    "from sklearn.impute import KNNImputer\n",
    "\n",
    "# Load training data\n",
    "train_df = pd.read_csv(\"train.csv\")\n",
    "\n",
    "# Load test data\n",
    "test_df = pd.read_csv(\"test.csv\")\n",
    "\n",
    "# Display first few rows\n",
    "train_df.head()\n",
    "\n",
    "print(train_df.isnull().sum().sort_values(ascending=False).head(20))  # Top missing values"
   ]
  },
  {
   "cell_type": "markdown",
   "id": "4ed00891-654a-4f68-89a5-e01d9184d888",
   "metadata": {},
   "source": [
    "### Data Pre-Processing\n",
    "\n",
    "Prior to data analysis, several preprocessing steps were undertaken to prepare the data for effective modeling:\n",
    "\n",
    "- **Handling Missing Values:** Missing values in the training and test datasets were imputed using KNNImputer, which calculates the average of the five nearest neighbors for each missing value. This approach ensures a more informed imputation compared to simpler methods like mean replacement.\n",
    "\n",
    "- **Encoding Categorical Variables:** Categorical features were transformed into numerical representations using one-hot encoding. This process created binary columns for each category, enabling compatibility with machine learning algorithms. To ensure consistency, the training and test datasets were aligned so they contained the same set of features.\n",
    "\n",
    "- **Creating Polynomial Features:** Polynomial transformations were applied to the data to capture interaction terms and nonlinear relationships between features. A second-degree polynomial expansion was implemented, creating additional features that could enhance the predictive power of regression models.\n",
    "\n",
    "- **Standardizing Numerical Features:** Numerical features were standardized using StandardScaler. This ensured all variables had a mean of 0 and a standard deviation of 1, eliminating discrepancies in scale and promoting better model performance.\n",
    "\n",
    "- **Splitting Data into Training and Validation Sets:** The training dataset was further divided into training and validation subsets using an 80-20 split. This allowed for evaluation of model performance on unseen data before moving forward with predictions.\n",
    "\n",
    "These preprocessing steps optimized the dataset for regression modeling, addressing missing values, ensuring feature consistency, and enhancing the quality of the input data."
   ]
  },
  {
   "cell_type": "code",
   "execution_count": 2,
   "id": "69861ca5-8bd2-41c3-a319-2d03be82de3f",
   "metadata": {},
   "outputs": [
    {
     "name": "stdout",
     "output_type": "stream",
     "text": [
      "Validation MAE: 19123.809036286973\n",
      "Cross-validation MAE: 24918.387121881035\n",
      "Submission file saved!\n"
     ]
    }
   ],
   "source": [
    "# Separate features and target variable for training\n",
    "X_train = train_df.drop(columns=['Id', 'SalePrice'], errors='ignore')\n",
    "y_train = train_df['SalePrice']\n",
    "\n",
    "# Prepare test data (ensure 'SalePrice' is dropped from the test set)\n",
    "X_test = test_df.drop(columns=['Id'], errors='ignore')\n",
    "\n",
    "# Perform one-hot encoding on both training and test sets\n",
    "X_train = pd.get_dummies(X_train)\n",
    "X_test = pd.get_dummies(X_test)\n",
    "\n",
    "# Align test set with train set (ensure they have the same columns)\n",
    "X_train, X_test = X_train.align(X_test, join='left', axis=1)\n",
    "\n",
    "# Handle missing values using KNN Imputer (instead of SimpleImputer)\n",
    "imputer = KNNImputer(n_neighbors=5)\n",
    "X_train = imputer.fit_transform(X_train)\n",
    "X_test = imputer.transform(X_test)\n",
    "\n",
    "# Apply Polynomial Features to capture interaction terms (degree 2)\n",
    "poly = PolynomialFeatures(degree=2, include_bias=False)\n",
    "X_train_poly = poly.fit_transform(X_train)\n",
    "X_test_poly = poly.transform(X_test)\n",
    "\n",
    "# Standardize the features (scaling)\n",
    "scaler = StandardScaler()\n",
    "X_train_scaled = scaler.fit_transform(X_train_poly)\n",
    "X_test_scaled = scaler.transform(X_test_poly)\n",
    "\n",
    "# Split training data into training and validation sets\n",
    "X_train_sub, X_valid, y_train_sub, y_valid = train_test_split(X_train_scaled, y_train, test_size=0.2, random_state=42)\n",
    "\n",
    "# Initialize and train the Linear Regression model\n",
    "model = LinearRegression()\n",
    "model.fit(X_train_sub, y_train_sub)\n",
    "\n",
    "# Validate the model\n",
    "y_pred = model.predict(X_valid)\n",
    "mae = mean_absolute_error(y_valid, y_pred)\n",
    "print(\"Validation MAE:\", mae)\n",
    "\n",
    "# Perform cross-validation to get a more reliable estimate of model performance\n",
    "cv_scores = cross_val_score(model, X_train_scaled, y_train, cv=5, scoring='neg_mean_absolute_error')\n",
    "print(\"Cross-validation MAE:\", -cv_scores.mean())\n",
    "\n",
    "# Make predictions on the test set\n",
    "y_test_pred = model.predict(X_test_scaled)\n",
    "\n",
    "# Create a submission file\n",
    "submission = pd.DataFrame({'Id': test_df['Id'], 'SalePrice': y_test_pred})\n",
    "submission.to_csv('submission.csv', index=False)\n",
    "\n",
    "print(\"Submission file saved!\")"
   ]
  },
  {
   "cell_type": "markdown",
   "id": "01aff4e1-78ee-4261-ac8b-3a0e39e289a0",
   "metadata": {},
   "source": [
    "### Linear Regression Model: Explanation and Evaluation\n",
    "\n",
    "The linear regression model serves as a foundational approach for predicting house prices in this project. It aims to model the relationship between the explanatory variables (features) and the target variable (`SalePrice`) by fitting a linear equation to the data.\n",
    "\n",
    "#### **Model Overview**\n",
    "Linear regression operates under the assumption that the target variable has a linear relationship with the predictors. The model minimizes the sum of squared residuals (the differences between observed and predicted values) to find the best-fit line. For this project, the following steps were implemented:\n",
    "\n",
    "- Polynomial transformations were applied to capture nonlinear relationships and interaction terms.\n",
    "- Features were standardized using `StandardScaler` to ensure consistency in scales, which helps improve model stability and performance.\n",
    "- The model was trained on the processed data and validated on an 80-20 train-validation split.\n",
    "- Cross-validation was employed to assess the robustness of the model across multiple folds.\n",
    "\n",
    "#### **Evaluation**\n",
    "The model achieved a Kaggle submission score of **0.16427** (based on Root-Mean-Squared-Error, RMSE). While this score is a reasonable starting point, it suggests there is room for improvement in model performance. The score reflects the logarithmic difference between predicted and actual house prices, with lower values indicating better accuracy.\n",
    "\n",
    "#### **Performance Analysis**\n",
    "- **Strengths:**\n",
    "  - The simplicity of linear regression makes it interpretable and computationally efficient.\n",
    "  - By standardizing features and incorporating polynomial terms, the model can capture more complex relationships than a basic linear regression.\n",
    "\n",
    "- **Limitations:**\n",
    "  - Linear regression may struggle with capturing highly nonlinear relationships inherent in the dataset.\n",
    "  - The assumption of a linear relationship between features and the target variable might not hold true for all predictors.\n",
    "  - Outliers in the data can influence the model significantly, potentially skewing predictions.\n",
    "  \n",
    "#### **Opportunities for Improvement**\n",
    "To enhance the model's performance:\n",
    "- Experiment with advanced regression techniques such as Ridge, Lasso, or ElasticNet, which can regularize the model and prevent overfitting.\n",
    "- Implement tree-based ensemble methods like Random Forest or Gradient Boosting, as these methods handle nonlinearity and interactions naturally.\n",
    "- Perform feature selection to remove irrelevant or redundant features, improving the model's ability to generalize.\n",
    "- Consider hyperparameter tuning for the polynomial degree and the regularization parameters in advanced models.\n",
    "\n",
    "The linear regression model provides valuable insights and serves as a solid baseline for the project. However, exploring and experimenting with alternative models and techniques is essential to achieve better accuracy and lower error on the Kaggle leaderboard."
   ]
  }
 ],
 "metadata": {
  "kernelspec": {
   "display_name": "Python [conda env:base] *",
   "language": "python",
   "name": "conda-base-py"
  },
  "language_info": {
   "codemirror_mode": {
    "name": "ipython",
    "version": 3
   },
   "file_extension": ".py",
   "mimetype": "text/x-python",
   "name": "python",
   "nbconvert_exporter": "python",
   "pygments_lexer": "ipython3",
   "version": "3.12.7"
  }
 },
 "nbformat": 4,
 "nbformat_minor": 5
}
